{
 "cells": [
  {
   "cell_type": "code",
   "execution_count": 1,
   "metadata": {
    "collapsed": false
   },
   "outputs": [],
   "source": [
    "import re\n",
    "import pandas as pd\n",
    "from bs4 import BeautifulSoup\n",
    "from selenium import webdriver  \n",
    "from selenium.webdriver.common.keys import Keys  \n",
    "from selenium.webdriver.chrome.options import Options\n",
    "# from selenium.webdriver.common.by import By\n",
    "# from selenium.webdriver.support.ui import WebDriverWait\n",
    "# from selenium.webdriver.support import expected_conditions as EC"
   ]
  },
  {
   "cell_type": "code",
   "execution_count": 2,
   "metadata": {
    "collapsed": true
   },
   "outputs": [],
   "source": [
    "CHROMEDRIVER = \"../../webdrivers/chromedriver\"\n",
    "SEARCH_FIELD_ID = \"ctl00_cphContent_txtEntityName\"\n",
    "HOME_URL = \"https://coraweb.sos.la.gov/CommercialSearch/CommercialSearch.aspx\"\n",
    "SEARCH_RESULTS_ID = \"ctl00_cphContent_grdSearchResults_EntityNameOrCharterNumber\"\n",
    "TEST_BUSINESSES = [\"Whirlwind space ac llc\",\"T & T Real Estate Dev LLC\",\"R2h Investments LLC\"]"
   ]
  },
  {
   "cell_type": "code",
   "execution_count": 3,
   "metadata": {
    "collapsed": true
   },
   "outputs": [],
   "source": [
    "service = webdriver.chrome.service.Service(CHROMEDRIVER)  \n",
    "service.start()\n",
    "\n",
    "chrome_options = Options()  \n",
    "chrome_options.add_argument(\"--headless\")  \n",
    "\n",
    "driver = webdriver.Remote(service.service_url, desired_capabilities=chrome_options.to_capabilities())"
   ]
  },
  {
   "cell_type": "code",
   "execution_count": 4,
   "metadata": {
    "collapsed": false
   },
   "outputs": [],
   "source": [
    "def search(business_name):\n",
    "    driver.get(HOME_URL)\n",
    "\n",
    "    search_field = driver.find_element_by_id(SEARCH_FIELD_ID)\n",
    "    search_field.clear()  \n",
    "    search_field.send_keys(business_name)  \n",
    "    search_field.send_keys(Keys.RETURN)"
   ]
  },
  {
   "cell_type": "code",
   "execution_count": 5,
   "metadata": {
    "collapsed": false
   },
   "outputs": [],
   "source": [
    "def is_on_business_page(page):\n",
    "    soup = BeautifulSoup(page, 'lxml')\n",
    "    if soup.find(id=SEARCH_RESULTS_ID) is None:\n",
    "#         print('on registered page')\n",
    "        return True\n",
    "    \n",
    "#     print('on search page')\n",
    "    return False"
   ]
  },
  {
   "cell_type": "code",
   "execution_count": 6,
   "metadata": {
    "collapsed": false
   },
   "outputs": [],
   "source": [
    "def get_business_details(business_name,business_page):\n",
    "    soup = BeautifulSoup(business_page, \"lxml\")\n",
    "    registered_agents = soup.find(id=\"ctl00_cphContent_pnlAgents\")\n",
    "    \n",
    "    names = registered_agents.find_all(id=re.compile(\"ctl00_cphContent_rptAgents_ct(...)_lblAgentName\"))\n",
    "    names = [name.get_text() for name in names]\n",
    "    city_state_zips = registered_agents.find_all(id=re.compile(\"ctl00_cphContent_rptAgents_ct(...)_lblAgentCSZ\"))\n",
    "    city_state_zips = [csz.get_text() for csz in city_state_zips]\n",
    "    addresses = registered_agents.find_all(id=re.compile(\"ctl00_cphContent_rptAgents_ct(...)_lblAgentAddress1\"))\n",
    "    addresses = [addr.get_text() for addr in addresses]\n",
    "\n",
    "    num_people = len(names)\n",
    "    \n",
    "    all_details = []\n",
    "#     for i in range(num_people):\n",
    "#         details[\"Full Name \" + str(i + 1)] = names[i]\n",
    "#         details[\"Address \" + str(i + 1)] = addresses[i]\n",
    "#         details[\"City,State,Zip \" + str(i + 1)] = city_state_zips[i]\n",
    "    \n",
    "    for i in range(num_people):\n",
    "        details = {}\n",
    "        details['Owner Name'] = business_name\n",
    "        details[\"Full Name\"] = names[i]\n",
    "        details[\"Address\"] = addresses[i]\n",
    "        details[\"City,State,Zip\"] = city_state_zips[i]\n",
    "        all_details.append(details)\n",
    "\n",
    "#     print(all_details)\n",
    "    return all_details"
   ]
  },
  {
   "cell_type": "code",
   "execution_count": 7,
   "metadata": {
    "collapsed": false
   },
   "outputs": [],
   "source": [
    "def navigate_best_match(business_name,search_results_page):\n",
    "    soup = BeautifulSoup(search_results_page, \"lxml\")\n",
    "    search_results = soup.find(id=\"ctl00_cphContent_grdSearchResults_EntityNameOrCharterNumber\")\n",
    "    top_results = search_results.find_all(class_=[\"RowNormal\",\"RowAlt\"])[:5]\n",
    "    top_results_names = [result.td.get_text() for result in top_results]\n",
    "#     print('Top 5 Search Results are')\n",
    "#     print(top_results_names)\n",
    "#     print('\\n')\n",
    "    match_index = None\n",
    "    for i,name in enumerate(top_results_names):\n",
    "        if business_name[:5] in name: # checks if first 5 chars in match business name\n",
    "            match_index = i\n",
    "            break\n",
    "\n",
    "    details_button_id = top_results[match_index].input.attrs['id']\n",
    "    driver.find_element_by_id(details_button_id).click()"
   ]
  },
  {
   "cell_type": "code",
   "execution_count": 8,
   "metadata": {
    "collapsed": false
   },
   "outputs": [],
   "source": [
    "def get_all_business_data(businesses):\n",
    "    business_data = []\n",
    "    for business in businesses:\n",
    "        print('getting details for: ' + business)\n",
    "        search(business)\n",
    "        page = driver.page_source\n",
    "        if not is_on_business_page(page):\n",
    "            navigate_best_match(business,page)\n",
    "\n",
    "        business_page = driver.page_source\n",
    "        business_details = get_business_details(business,business_page)\n",
    "        for detail in business_details:\n",
    "            business_data.append(detail)\n",
    "        \n",
    "    return business_data\n",
    "        "
   ]
  },
  {
   "cell_type": "code",
   "execution_count": 9,
   "metadata": {
    "collapsed": false,
    "scrolled": true
   },
   "outputs": [
    {
     "name": "stdout",
     "output_type": "stream",
     "text": [
      "getting details for: Whirlwind space ac llc\n",
      "getting details for: T & T Real Estate Dev LLC\n",
      "getting details for: R2h Investments LLC\n"
     ]
    }
   ],
   "source": [
    "business_data = get_all_business_data(TEST_BUSINESSES)"
   ]
  },
  {
   "cell_type": "code",
   "execution_count": 10,
   "metadata": {
    "collapsed": false
   },
   "outputs": [
    {
     "data": {
      "text/plain": [
       "[{'Address': '2312 NAPOLEON AVENUE',\n",
       "  'City,State,Zip': 'NEW ORLEANS, LA  70115',\n",
       "  'Full Name': 'ANDREW BERNARD',\n",
       "  'Owner Name': 'Whirlwind space ac llc'},\n",
       " {'Address': '1001 VETERANS MEMORIAL BLVD., STE. 106',\n",
       "  'City,State,Zip': 'KENNER, LA  70062',\n",
       "  'Full Name': 'ALEX TAN',\n",
       "  'Owner Name': 'T & T Real Estate Dev LLC'},\n",
       " {'Address': '1001 VETERANS MEMORIAL BLVD., STE. 106',\n",
       "  'City,State,Zip': 'KENNER, LA  70062',\n",
       "  'Full Name': 'LANCE THEARD',\n",
       "  'Owner Name': 'T & T Real Estate Dev LLC'},\n",
       " {'Address': '313 OPELOUSAS AVE',\n",
       "  'City,State,Zip': 'NEW ORLEANS, LA  70114',\n",
       "  'Full Name': 'MICHAEL JOHNSTON',\n",
       "  'Owner Name': 'R2h Investments LLC'}]"
      ]
     },
     "execution_count": 10,
     "metadata": {},
     "output_type": "execute_result"
    }
   ],
   "source": [
    "business_data"
   ]
  },
  {
   "cell_type": "code",
   "execution_count": 11,
   "metadata": {
    "collapsed": true
   },
   "outputs": [],
   "source": [
    "business_df = pd.DataFrame(business_data)"
   ]
  },
  {
   "cell_type": "code",
   "execution_count": 12,
   "metadata": {
    "collapsed": false
   },
   "outputs": [
    {
     "data": {
      "text/html": [
       "<div>\n",
       "<table border=\"1\" class=\"dataframe\">\n",
       "  <thead>\n",
       "    <tr style=\"text-align: right;\">\n",
       "      <th></th>\n",
       "      <th>Address</th>\n",
       "      <th>City,State,Zip</th>\n",
       "      <th>Full Name</th>\n",
       "      <th>Owner Name</th>\n",
       "    </tr>\n",
       "  </thead>\n",
       "  <tbody>\n",
       "    <tr>\n",
       "      <th>0</th>\n",
       "      <td>2312 NAPOLEON AVENUE</td>\n",
       "      <td>NEW ORLEANS, LA  70115</td>\n",
       "      <td>ANDREW BERNARD</td>\n",
       "      <td>Whirlwind space ac llc</td>\n",
       "    </tr>\n",
       "    <tr>\n",
       "      <th>1</th>\n",
       "      <td>1001 VETERANS MEMORIAL BLVD., STE. 106</td>\n",
       "      <td>KENNER, LA  70062</td>\n",
       "      <td>ALEX TAN</td>\n",
       "      <td>T &amp; T Real Estate Dev LLC</td>\n",
       "    </tr>\n",
       "    <tr>\n",
       "      <th>2</th>\n",
       "      <td>1001 VETERANS MEMORIAL BLVD., STE. 106</td>\n",
       "      <td>KENNER, LA  70062</td>\n",
       "      <td>LANCE THEARD</td>\n",
       "      <td>T &amp; T Real Estate Dev LLC</td>\n",
       "    </tr>\n",
       "    <tr>\n",
       "      <th>3</th>\n",
       "      <td>313 OPELOUSAS AVE</td>\n",
       "      <td>NEW ORLEANS, LA  70114</td>\n",
       "      <td>MICHAEL JOHNSTON</td>\n",
       "      <td>R2h Investments LLC</td>\n",
       "    </tr>\n",
       "  </tbody>\n",
       "</table>\n",
       "</div>"
      ],
      "text/plain": [
       "                                  Address          City,State,Zip  \\\n",
       "0                    2312 NAPOLEON AVENUE  NEW ORLEANS, LA  70115   \n",
       "1  1001 VETERANS MEMORIAL BLVD., STE. 106       KENNER, LA  70062   \n",
       "2  1001 VETERANS MEMORIAL BLVD., STE. 106       KENNER, LA  70062   \n",
       "3                       313 OPELOUSAS AVE  NEW ORLEANS, LA  70114   \n",
       "\n",
       "          Full Name                 Owner Name  \n",
       "0    ANDREW BERNARD     Whirlwind space ac llc  \n",
       "1          ALEX TAN  T & T Real Estate Dev LLC  \n",
       "2      LANCE THEARD  T & T Real Estate Dev LLC  \n",
       "3  MICHAEL JOHNSTON        R2h Investments LLC  "
      ]
     },
     "execution_count": 12,
     "metadata": {},
     "output_type": "execute_result"
    }
   ],
   "source": [
    "business_df.head()"
   ]
  },
  {
   "cell_type": "code",
   "execution_count": 13,
   "metadata": {
    "collapsed": false
   },
   "outputs": [
    {
     "data": {
      "text/html": [
       "<div>\n",
       "<table border=\"1\" class=\"dataframe\">\n",
       "  <thead>\n",
       "    <tr style=\"text-align: right;\">\n",
       "      <th></th>\n",
       "      <th>Address</th>\n",
       "      <th>City,State,Zip</th>\n",
       "      <th>Full Name</th>\n",
       "      <th>Owner Name</th>\n",
       "      <th>Mailing Zip Code</th>\n",
       "      <th>Mailing State</th>\n",
       "      <th>Mailing City</th>\n",
       "      <th>First Name</th>\n",
       "      <th>Last Name</th>\n",
       "    </tr>\n",
       "  </thead>\n",
       "  <tbody>\n",
       "    <tr>\n",
       "      <th>0</th>\n",
       "      <td>2312 NAPOLEON AVENUE</td>\n",
       "      <td>NEW ORLEANS, LA  70115</td>\n",
       "      <td>ANDREW BERNARD</td>\n",
       "      <td>Whirlwind space ac llc</td>\n",
       "      <td>70115</td>\n",
       "      <td>LA</td>\n",
       "      <td>NEW ORLEANS</td>\n",
       "      <td>ANDREW</td>\n",
       "      <td>BERNARD</td>\n",
       "    </tr>\n",
       "    <tr>\n",
       "      <th>1</th>\n",
       "      <td>1001 VETERANS MEMORIAL BLVD., STE. 106</td>\n",
       "      <td>KENNER, LA  70062</td>\n",
       "      <td>ALEX TAN</td>\n",
       "      <td>T &amp; T Real Estate Dev LLC</td>\n",
       "      <td>70062</td>\n",
       "      <td>LA</td>\n",
       "      <td>KENNER</td>\n",
       "      <td>ALEX</td>\n",
       "      <td>TAN</td>\n",
       "    </tr>\n",
       "    <tr>\n",
       "      <th>2</th>\n",
       "      <td>1001 VETERANS MEMORIAL BLVD., STE. 106</td>\n",
       "      <td>KENNER, LA  70062</td>\n",
       "      <td>LANCE THEARD</td>\n",
       "      <td>T &amp; T Real Estate Dev LLC</td>\n",
       "      <td>70062</td>\n",
       "      <td>LA</td>\n",
       "      <td>KENNER</td>\n",
       "      <td>LANCE</td>\n",
       "      <td>THEARD</td>\n",
       "    </tr>\n",
       "    <tr>\n",
       "      <th>3</th>\n",
       "      <td>313 OPELOUSAS AVE</td>\n",
       "      <td>NEW ORLEANS, LA  70114</td>\n",
       "      <td>MICHAEL JOHNSTON</td>\n",
       "      <td>R2h Investments LLC</td>\n",
       "      <td>70114</td>\n",
       "      <td>LA</td>\n",
       "      <td>NEW ORLEANS</td>\n",
       "      <td>MICHAEL</td>\n",
       "      <td>JOHNSTON</td>\n",
       "    </tr>\n",
       "  </tbody>\n",
       "</table>\n",
       "</div>"
      ],
      "text/plain": [
       "                                  Address          City,State,Zip  \\\n",
       "0                    2312 NAPOLEON AVENUE  NEW ORLEANS, LA  70115   \n",
       "1  1001 VETERANS MEMORIAL BLVD., STE. 106       KENNER, LA  70062   \n",
       "2  1001 VETERANS MEMORIAL BLVD., STE. 106       KENNER, LA  70062   \n",
       "3                       313 OPELOUSAS AVE  NEW ORLEANS, LA  70114   \n",
       "\n",
       "          Full Name                 Owner Name Mailing Zip Code Mailing State  \\\n",
       "0    ANDREW BERNARD     Whirlwind space ac llc            70115            LA   \n",
       "1          ALEX TAN  T & T Real Estate Dev LLC            70062            LA   \n",
       "2      LANCE THEARD  T & T Real Estate Dev LLC            70062            LA   \n",
       "3  MICHAEL JOHNSTON        R2h Investments LLC            70114            LA   \n",
       "\n",
       "  Mailing City First Name Last Name  \n",
       "0  NEW ORLEANS     ANDREW   BERNARD  \n",
       "1       KENNER       ALEX       TAN  \n",
       "2       KENNER      LANCE    THEARD  \n",
       "3  NEW ORLEANS    MICHAEL  JOHNSTON  "
      ]
     },
     "execution_count": 13,
     "metadata": {},
     "output_type": "execute_result"
    }
   ],
   "source": [
    "business_df['Mailing Zip Code'] = business_df['City,State,Zip'].apply(lambda x: x.split()[-1])\n",
    "business_df['Mailing State'] = business_df['City,State,Zip'].apply(lambda x: x.split()[-2])\n",
    "business_df['Mailing City'] = business_df['City,State,Zip'].apply(lambda x: x.split(',')[0])\n",
    "\n",
    "business_df['First Name'] = business_df['Full Name'].apply(lambda x: x.split()[0])\n",
    "business_df['Last Name'] = business_df['Full Name'].apply(lambda x: x.split()[1])\n",
    "business_df.head()"
   ]
  },
  {
   "cell_type": "code",
   "execution_count": 14,
   "metadata": {
    "collapsed": false
   },
   "outputs": [
    {
     "data": {
      "text/html": [
       "<div>\n",
       "<table border=\"1\" class=\"dataframe\">\n",
       "  <thead>\n",
       "    <tr style=\"text-align: right;\">\n",
       "      <th></th>\n",
       "      <th>Owner Name</th>\n",
       "      <th>First Name</th>\n",
       "      <th>Last Name</th>\n",
       "      <th>Full Name</th>\n",
       "      <th>Address</th>\n",
       "      <th>Mailing City</th>\n",
       "      <th>Mailing State</th>\n",
       "      <th>Mailing Zip Code</th>\n",
       "      <th>City,State,Zip</th>\n",
       "    </tr>\n",
       "  </thead>\n",
       "  <tbody>\n",
       "    <tr>\n",
       "      <th>0</th>\n",
       "      <td>Whirlwind space ac llc</td>\n",
       "      <td>ANDREW</td>\n",
       "      <td>BERNARD</td>\n",
       "      <td>ANDREW BERNARD</td>\n",
       "      <td>2312 NAPOLEON AVENUE</td>\n",
       "      <td>NEW ORLEANS</td>\n",
       "      <td>LA</td>\n",
       "      <td>70115</td>\n",
       "      <td>NEW ORLEANS, LA  70115</td>\n",
       "    </tr>\n",
       "    <tr>\n",
       "      <th>1</th>\n",
       "      <td>T &amp; T Real Estate Dev LLC</td>\n",
       "      <td>ALEX</td>\n",
       "      <td>TAN</td>\n",
       "      <td>ALEX TAN</td>\n",
       "      <td>1001 VETERANS MEMORIAL BLVD., STE. 106</td>\n",
       "      <td>KENNER</td>\n",
       "      <td>LA</td>\n",
       "      <td>70062</td>\n",
       "      <td>KENNER, LA  70062</td>\n",
       "    </tr>\n",
       "    <tr>\n",
       "      <th>2</th>\n",
       "      <td>T &amp; T Real Estate Dev LLC</td>\n",
       "      <td>LANCE</td>\n",
       "      <td>THEARD</td>\n",
       "      <td>LANCE THEARD</td>\n",
       "      <td>1001 VETERANS MEMORIAL BLVD., STE. 106</td>\n",
       "      <td>KENNER</td>\n",
       "      <td>LA</td>\n",
       "      <td>70062</td>\n",
       "      <td>KENNER, LA  70062</td>\n",
       "    </tr>\n",
       "    <tr>\n",
       "      <th>3</th>\n",
       "      <td>R2h Investments LLC</td>\n",
       "      <td>MICHAEL</td>\n",
       "      <td>JOHNSTON</td>\n",
       "      <td>MICHAEL JOHNSTON</td>\n",
       "      <td>313 OPELOUSAS AVE</td>\n",
       "      <td>NEW ORLEANS</td>\n",
       "      <td>LA</td>\n",
       "      <td>70114</td>\n",
       "      <td>NEW ORLEANS, LA  70114</td>\n",
       "    </tr>\n",
       "  </tbody>\n",
       "</table>\n",
       "</div>"
      ],
      "text/plain": [
       "                  Owner Name First Name Last Name         Full Name  \\\n",
       "0     Whirlwind space ac llc     ANDREW   BERNARD    ANDREW BERNARD   \n",
       "1  T & T Real Estate Dev LLC       ALEX       TAN          ALEX TAN   \n",
       "2  T & T Real Estate Dev LLC      LANCE    THEARD      LANCE THEARD   \n",
       "3        R2h Investments LLC    MICHAEL  JOHNSTON  MICHAEL JOHNSTON   \n",
       "\n",
       "                                  Address Mailing City Mailing State  \\\n",
       "0                    2312 NAPOLEON AVENUE  NEW ORLEANS            LA   \n",
       "1  1001 VETERANS MEMORIAL BLVD., STE. 106       KENNER            LA   \n",
       "2  1001 VETERANS MEMORIAL BLVD., STE. 106       KENNER            LA   \n",
       "3                       313 OPELOUSAS AVE  NEW ORLEANS            LA   \n",
       "\n",
       "  Mailing Zip Code          City,State,Zip  \n",
       "0            70115  NEW ORLEANS, LA  70115  \n",
       "1            70062       KENNER, LA  70062  \n",
       "2            70062       KENNER, LA  70062  \n",
       "3            70114  NEW ORLEANS, LA  70114  "
      ]
     },
     "execution_count": 14,
     "metadata": {},
     "output_type": "execute_result"
    }
   ],
   "source": [
    "business_df = business_df[['Owner Name', 'First Name', 'Last Name', 'Full Name',\n",
    "        'Address','Mailing City', 'Mailing State','Mailing Zip Code','City,State,Zip']]\n",
    "business_df.head()"
   ]
  },
  {
   "cell_type": "code",
   "execution_count": 15,
   "metadata": {
    "collapsed": false
   },
   "outputs": [],
   "source": [
    "# DF TO EXCEL\n",
    "\n",
    "writer = pd.ExcelWriter('louisiana.xlsx')\n",
    "business_df.to_excel(writer,'Sheet1')\n",
    "writer.save()\n",
    "\n",
    "# DF TO CSV\n",
    "business_df.to_csv('louisiana.csv', sep=',')"
   ]
  },
  {
   "cell_type": "code",
   "execution_count": 16,
   "metadata": {
    "collapsed": true
   },
   "outputs": [],
   "source": [
    "service.stop()"
   ]
  },
  {
   "cell_type": "code",
   "execution_count": null,
   "metadata": {
    "collapsed": true
   },
   "outputs": [],
   "source": []
  }
 ],
 "metadata": {
  "kernelspec": {
   "display_name": "Python [conda root]",
   "language": "python",
   "name": "conda-root-py"
  },
  "language_info": {
   "codemirror_mode": {
    "name": "ipython",
    "version": 3
   },
   "file_extension": ".py",
   "mimetype": "text/x-python",
   "name": "python",
   "nbconvert_exporter": "python",
   "pygments_lexer": "ipython3",
   "version": "3.6.4"
  }
 },
 "nbformat": 4,
 "nbformat_minor": 2
}
